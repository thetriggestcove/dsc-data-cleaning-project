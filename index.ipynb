{
 "cells": [
  {
   "cell_type": "markdown",
   "metadata": {},
   "source": [
    "# Project - Data Cleaning\n",
    "\n",
    "## Introduction\n",
    "In this lab, we'll make use of everything we've learned about pandas, data cleaning, and exploratory data analysis. In order to complete this lab, you'll have to import, clean, combine, reshape, and visualize data to answer questions provided, as well as your own questions!\n",
    "\n",
    "## Objectives\n",
    "You will be able to:\n",
    "- Use different types of joins to merge DataFrames \n",
    "- Identify missing values in a dataframe using built-in methods \n",
    "- Evaluate and execute the best strategy for dealing with missing, duplicate, and erroneous values for a given dataset \n",
    "- Inspect data for duplicates or extraneous values and remove them \n",
    "\n",
    "\n",
    "## The dataset\n",
    "In this lab, we'll work with the comprehensive [Super Heroes Dataset](https://www.kaggle.com/claudiodavi/superhero-set/data), which can be found on Kaggle!\n",
    "\n",
    "\n",
    "## Getting Started\n",
    "\n",
    "In the cell below:\n",
    "\n",
    "* Import and alias pandas as `pd`\n",
    "* Import and alias numpy as `np`\n",
    "* Import and alias seaborn as `sns`\n",
    "* Import and alias matplotlib.pyplot as `plt`\n",
    "* Set matplotlib visualizations to display inline in the notebook"
   ]
  },
  {
   "cell_type": "code",
   "execution_count": 118,
   "metadata": {},
   "outputs": [],
   "source": [
    "import pandas as pd\n",
    "import numpy as np\n",
    "import seaborn as sns\n",
    "import matplotlib.pyplot as plt\n",
    "%matplotlib inline"
   ]
  },
  {
   "cell_type": "markdown",
   "metadata": {},
   "source": [
    "For this lab, our dataset is split among two different sources -- `'heroes_information.csv'` and `'super_hero_powers.csv'`.\n",
    "\n",
    "Use pandas to read in each file and store them in DataFrames in the appropriate variables below. Then, display the `.head()` of each to ensure that everything loaded correctly.  "
   ]
  },
  {
   "cell_type": "code",
   "execution_count": 119,
   "metadata": {},
   "outputs": [
    {
     "name": "stdout",
     "output_type": "stream",
     "text": [
      "<class 'pandas.core.frame.DataFrame'>\n",
      "RangeIndex: 734 entries, 0 to 733\n",
      "Data columns (total 11 columns):\n",
      " #   Column      Non-Null Count  Dtype  \n",
      "---  ------      --------------  -----  \n",
      " 0   Unnamed: 0  734 non-null    int64  \n",
      " 1   name        734 non-null    object \n",
      " 2   Gender      734 non-null    object \n",
      " 3   Eye color   734 non-null    object \n",
      " 4   Race        734 non-null    object \n",
      " 5   Hair color  734 non-null    object \n",
      " 6   Height      734 non-null    float64\n",
      " 7   Publisher   719 non-null    object \n",
      " 8   Skin color  734 non-null    object \n",
      " 9   Alignment   734 non-null    object \n",
      " 10  Weight      732 non-null    float64\n",
      "dtypes: float64(2), int64(1), object(8)\n",
      "memory usage: 63.2+ KB\n",
      "None\n",
      "\n",
      "<class 'pandas.core.frame.DataFrame'>\n",
      "RangeIndex: 667 entries, 0 to 666\n",
      "Data columns (total 168 columns):\n",
      " #   Column                        Dtype \n",
      "---  ------                        ----- \n",
      " 0   hero_names                    object\n",
      " 1   Agility                       bool  \n",
      " 2   Accelerated Healing           bool  \n",
      " 3   Lantern Power Ring            bool  \n",
      " 4   Dimensional Awareness         bool  \n",
      " 5   Cold Resistance               bool  \n",
      " 6   Durability                    bool  \n",
      " 7   Stealth                       bool  \n",
      " 8   Energy Absorption             bool  \n",
      " 9   Flight                        bool  \n",
      " 10  Danger Sense                  bool  \n",
      " 11  Underwater breathing          bool  \n",
      " 12  Marksmanship                  bool  \n",
      " 13  Weapons Master                bool  \n",
      " 14  Power Augmentation            bool  \n",
      " 15  Animal Attributes             bool  \n",
      " 16  Longevity                     bool  \n",
      " 17  Intelligence                  bool  \n",
      " 18  Super Strength                bool  \n",
      " 19  Cryokinesis                   bool  \n",
      " 20  Telepathy                     bool  \n",
      " 21  Energy Armor                  bool  \n",
      " 22  Energy Blasts                 bool  \n",
      " 23  Duplication                   bool  \n",
      " 24  Size Changing                 bool  \n",
      " 25  Density Control               bool  \n",
      " 26  Stamina                       bool  \n",
      " 27  Astral Travel                 bool  \n",
      " 28  Audio Control                 bool  \n",
      " 29  Dexterity                     bool  \n",
      " 30  Omnitrix                      bool  \n",
      " 31  Super Speed                   bool  \n",
      " 32  Possession                    bool  \n",
      " 33  Animal Oriented Powers        bool  \n",
      " 34  Weapon-based Powers           bool  \n",
      " 35  Electrokinesis                bool  \n",
      " 36  Darkforce Manipulation        bool  \n",
      " 37  Death Touch                   bool  \n",
      " 38  Teleportation                 bool  \n",
      " 39  Enhanced Senses               bool  \n",
      " 40  Telekinesis                   bool  \n",
      " 41  Energy Beams                  bool  \n",
      " 42  Magic                         bool  \n",
      " 43  Hyperkinesis                  bool  \n",
      " 44  Jump                          bool  \n",
      " 45  Clairvoyance                  bool  \n",
      " 46  Dimensional Travel            bool  \n",
      " 47  Power Sense                   bool  \n",
      " 48  Shapeshifting                 bool  \n",
      " 49  Peak Human Condition          bool  \n",
      " 50  Immortality                   bool  \n",
      " 51  Camouflage                    bool  \n",
      " 52  Element Control               bool  \n",
      " 53  Phasing                       bool  \n",
      " 54  Astral Projection             bool  \n",
      " 55  Electrical Transport          bool  \n",
      " 56  Fire Control                  bool  \n",
      " 57  Projection                    bool  \n",
      " 58  Summoning                     bool  \n",
      " 59  Enhanced Memory               bool  \n",
      " 60  Reflexes                      bool  \n",
      " 61  Invulnerability               bool  \n",
      " 62  Energy Constructs             bool  \n",
      " 63  Force Fields                  bool  \n",
      " 64  Self-Sustenance               bool  \n",
      " 65  Anti-Gravity                  bool  \n",
      " 66  Empathy                       bool  \n",
      " 67  Power Nullifier               bool  \n",
      " 68  Radiation Control             bool  \n",
      " 69  Psionic Powers                bool  \n",
      " 70  Elasticity                    bool  \n",
      " 71  Substance Secretion           bool  \n",
      " 72  Elemental Transmogrification  bool  \n",
      " 73  Technopath/Cyberpath          bool  \n",
      " 74  Photographic Reflexes         bool  \n",
      " 75  Seismic Power                 bool  \n",
      " 76  Animation                     bool  \n",
      " 77  Precognition                  bool  \n",
      " 78  Mind Control                  bool  \n",
      " 79  Fire Resistance               bool  \n",
      " 80  Power Absorption              bool  \n",
      " 81  Enhanced Hearing              bool  \n",
      " 82  Nova Force                    bool  \n",
      " 83  Insanity                      bool  \n",
      " 84  Hypnokinesis                  bool  \n",
      " 85  Animal Control                bool  \n",
      " 86  Natural Armor                 bool  \n",
      " 87  Intangibility                 bool  \n",
      " 88  Enhanced Sight                bool  \n",
      " 89  Molecular Manipulation        bool  \n",
      " 90  Heat Generation               bool  \n",
      " 91  Adaptation                    bool  \n",
      " 92  Gliding                       bool  \n",
      " 93  Power Suit                    bool  \n",
      " 94  Mind Blast                    bool  \n",
      " 95  Probability Manipulation      bool  \n",
      " 96  Gravity Control               bool  \n",
      " 97  Regeneration                  bool  \n",
      " 98  Light Control                 bool  \n",
      " 99  Echolocation                  bool  \n",
      " 100 Levitation                    bool  \n",
      " 101 Toxin and Disease Control     bool  \n",
      " 102 Banish                        bool  \n",
      " 103 Energy Manipulation           bool  \n",
      " 104 Heat Resistance               bool  \n",
      " 105 Natural Weapons               bool  \n",
      " 106 Time Travel                   bool  \n",
      " 107 Enhanced Smell                bool  \n",
      " 108 Illusions                     bool  \n",
      " 109 Thirstokinesis                bool  \n",
      " 110 Hair Manipulation             bool  \n",
      " 111 Illumination                  bool  \n",
      " 112 Omnipotent                    bool  \n",
      " 113 Cloaking                      bool  \n",
      " 114 Changing Armor                bool  \n",
      " 115 Power Cosmic                  bool  \n",
      " 116 Biokinesis                    bool  \n",
      " 117 Water Control                 bool  \n",
      " 118 Radiation Immunity            bool  \n",
      " 119 Vision - Telescopic           bool  \n",
      " 120 Toxin and Disease Resistance  bool  \n",
      " 121 Spatial Awareness             bool  \n",
      " 122 Energy Resistance             bool  \n",
      " 123 Telepathy Resistance          bool  \n",
      " 124 Molecular Combustion          bool  \n",
      " 125 Omnilingualism                bool  \n",
      " 126 Portal Creation               bool  \n",
      " 127 Magnetism                     bool  \n",
      " 128 Mind Control Resistance       bool  \n",
      " 129 Plant Control                 bool  \n",
      " 130 Sonar                         bool  \n",
      " 131 Sonic Scream                  bool  \n",
      " 132 Time Manipulation             bool  \n",
      " 133 Enhanced Touch                bool  \n",
      " 134 Magic Resistance              bool  \n",
      " 135 Invisibility                  bool  \n",
      " 136 Sub-Mariner                   bool  \n",
      " 137 Radiation Absorption          bool  \n",
      " 138 Intuitive aptitude            bool  \n",
      " 139 Vision - Microscopic          bool  \n",
      " 140 Melting                       bool  \n",
      " 141 Wind Control                  bool  \n",
      " 142 Super Breath                  bool  \n",
      " 143 Wallcrawling                  bool  \n",
      " 144 Vision - Night                bool  \n",
      " 145 Vision - Infrared             bool  \n",
      " 146 Grim Reaping                  bool  \n",
      " 147 Matter Absorption             bool  \n",
      " 148 The Force                     bool  \n",
      " 149 Resurrection                  bool  \n",
      " 150 Terrakinesis                  bool  \n",
      " 151 Vision - Heat                 bool  \n",
      " 152 Vitakinesis                   bool  \n",
      " 153 Radar Sense                   bool  \n",
      " 154 Qwardian Power Ring           bool  \n",
      " 155 Weather Control               bool  \n",
      " 156 Vision - X-Ray                bool  \n",
      " 157 Vision - Thermal              bool  \n",
      " 158 Web Creation                  bool  \n",
      " 159 Reality Warping               bool  \n",
      " 160 Odin Force                    bool  \n",
      " 161 Symbiote Costume              bool  \n",
      " 162 Speed Force                   bool  \n",
      " 163 Phoenix Force                 bool  \n",
      " 164 Molecular Dissipation         bool  \n",
      " 165 Vision - Cryo                 bool  \n",
      " 166 Omnipresent                   bool  \n",
      " 167 Omniscient                    bool  \n",
      "dtypes: bool(167), object(1)\n",
      "memory usage: 114.1+ KB\n",
      "None\n",
      "\n"
     ]
    },
    {
     "data": {
      "text/plain": [
       "[None, None]"
      ]
     },
     "execution_count": 119,
     "metadata": {},
     "output_type": "execute_result"
    }
   ],
   "source": [
    "heroes_df = pd.read_csv('heroes_information.csv')\n",
    "powers_df = pd.read_csv('super_hero_powers.csv')\n",
    "\n",
    "sets = [heroes_df, powers_df]\n",
    "\n",
    "[print(f\"{item.info(verbose=True)}\\n\") for item in sets]\n",
    "\n",
    "#print(heroes_df.info())\n",
    "\n",
    "#print(powers_df.info())\n"
   ]
  },
  {
   "cell_type": "markdown",
   "metadata": {},
   "source": [
    "It looks as if the heroes information dataset contained an index column.  We did not specify that this dataset contained an index column, because we hadn't seen it yet. Pandas does not know how to tell apart an index column from any other data, so it stored it with the column name `Unnamed: 0`.  \n",
    "\n",
    "Our DataFrame provided row indices by default, so this column is not needed.  Drop it from the DataFrame in place in the cell below, and then display the head of `heroes_df` to ensure that it worked properly. "
   ]
  },
  {
   "cell_type": "code",
   "execution_count": 120,
   "metadata": {},
   "outputs": [
    {
     "data": {
      "text/html": [
       "<div>\n",
       "<style scoped>\n",
       "    .dataframe tbody tr th:only-of-type {\n",
       "        vertical-align: middle;\n",
       "    }\n",
       "\n",
       "    .dataframe tbody tr th {\n",
       "        vertical-align: top;\n",
       "    }\n",
       "\n",
       "    .dataframe thead th {\n",
       "        text-align: right;\n",
       "    }\n",
       "</style>\n",
       "<table border=\"1\" class=\"dataframe\">\n",
       "  <thead>\n",
       "    <tr style=\"text-align: right;\">\n",
       "      <th></th>\n",
       "      <th>name</th>\n",
       "      <th>Gender</th>\n",
       "      <th>Eye color</th>\n",
       "      <th>Race</th>\n",
       "      <th>Hair color</th>\n",
       "      <th>Height</th>\n",
       "      <th>Publisher</th>\n",
       "      <th>Skin color</th>\n",
       "      <th>Alignment</th>\n",
       "      <th>Weight</th>\n",
       "    </tr>\n",
       "  </thead>\n",
       "  <tbody>\n",
       "    <tr>\n",
       "      <th>0</th>\n",
       "      <td>A-Bomb</td>\n",
       "      <td>Male</td>\n",
       "      <td>yellow</td>\n",
       "      <td>Human</td>\n",
       "      <td>No Hair</td>\n",
       "      <td>203.0</td>\n",
       "      <td>Marvel Comics</td>\n",
       "      <td>-</td>\n",
       "      <td>good</td>\n",
       "      <td>441.0</td>\n",
       "    </tr>\n",
       "    <tr>\n",
       "      <th>1</th>\n",
       "      <td>Abe Sapien</td>\n",
       "      <td>Male</td>\n",
       "      <td>blue</td>\n",
       "      <td>Icthyo Sapien</td>\n",
       "      <td>No Hair</td>\n",
       "      <td>191.0</td>\n",
       "      <td>Dark Horse Comics</td>\n",
       "      <td>blue</td>\n",
       "      <td>good</td>\n",
       "      <td>65.0</td>\n",
       "    </tr>\n",
       "    <tr>\n",
       "      <th>2</th>\n",
       "      <td>Abin Sur</td>\n",
       "      <td>Male</td>\n",
       "      <td>blue</td>\n",
       "      <td>Ungaran</td>\n",
       "      <td>No Hair</td>\n",
       "      <td>185.0</td>\n",
       "      <td>DC Comics</td>\n",
       "      <td>red</td>\n",
       "      <td>good</td>\n",
       "      <td>90.0</td>\n",
       "    </tr>\n",
       "    <tr>\n",
       "      <th>3</th>\n",
       "      <td>Abomination</td>\n",
       "      <td>Male</td>\n",
       "      <td>green</td>\n",
       "      <td>Human / Radiation</td>\n",
       "      <td>No Hair</td>\n",
       "      <td>203.0</td>\n",
       "      <td>Marvel Comics</td>\n",
       "      <td>-</td>\n",
       "      <td>bad</td>\n",
       "      <td>441.0</td>\n",
       "    </tr>\n",
       "    <tr>\n",
       "      <th>4</th>\n",
       "      <td>Abraxas</td>\n",
       "      <td>Male</td>\n",
       "      <td>blue</td>\n",
       "      <td>Cosmic Entity</td>\n",
       "      <td>Black</td>\n",
       "      <td>-99.0</td>\n",
       "      <td>Marvel Comics</td>\n",
       "      <td>-</td>\n",
       "      <td>bad</td>\n",
       "      <td>-99.0</td>\n",
       "    </tr>\n",
       "  </tbody>\n",
       "</table>\n",
       "</div>"
      ],
      "text/plain": [
       "          name Gender Eye color               Race Hair color  Height  \\\n",
       "0       A-Bomb   Male    yellow              Human    No Hair   203.0   \n",
       "1   Abe Sapien   Male      blue      Icthyo Sapien    No Hair   191.0   \n",
       "2     Abin Sur   Male      blue            Ungaran    No Hair   185.0   \n",
       "3  Abomination   Male     green  Human / Radiation    No Hair   203.0   \n",
       "4      Abraxas   Male      blue      Cosmic Entity      Black   -99.0   \n",
       "\n",
       "           Publisher Skin color Alignment  Weight  \n",
       "0      Marvel Comics          -      good   441.0  \n",
       "1  Dark Horse Comics       blue      good    65.0  \n",
       "2          DC Comics        red      good    90.0  \n",
       "3      Marvel Comics          -       bad   441.0  \n",
       "4      Marvel Comics          -       bad   -99.0  "
      ]
     },
     "execution_count": 120,
     "metadata": {},
     "output_type": "execute_result"
    }
   ],
   "source": [
    "heroes_df.drop('Unnamed: 0', axis=1, inplace=True)\n",
    "\n",
    "heroes_df.head()"
   ]
  },
  {
   "cell_type": "markdown",
   "metadata": {},
   "source": [
    "## Familiarize yourself with the dataset\n",
    "\n",
    "The first step in our Exploratory Data Analysis will be to get familiar with the data.  This step includes:\n",
    "\n",
    "* Understanding the dimensionality of your dataset\n",
    "* Investigating what type of data it contains, and the data types used to store it\n",
    "* Discovering how missing values are encoded, and how many there are\n",
    "* Getting a feel for what information it does and doesn't contain\n",
    "\n",
    "In the cell below, get the descriptive statistics of each DataFrame.  "
   ]
  },
  {
   "cell_type": "code",
   "execution_count": 296,
   "metadata": {},
   "outputs": [
    {
     "name": "stdout",
     "output_type": "stream",
     "text": [
      "           Height      Weight\n",
      "count  642.000000  642.000000\n",
      "mean   186.119159  105.294393\n",
      "std     53.157593   92.284926\n",
      "min     15.200000    2.000000\n",
      "25%    175.750000   70.250000\n",
      "50%    183.000000   81.000000\n",
      "75%    188.000000   97.000000\n",
      "max    975.000000  900.000000\n",
      "\n",
      "       Agility Accelerated Healing Lantern Power Ring Dimensional Awareness  \\\n",
      "count      608                 608                608                   608   \n",
      "unique       2                   2                  2                     2   \n",
      "top      False               False              False                 False   \n",
      "freq       376                 436                597                   584   \n",
      "\n",
      "       Cold Resistance Durability Stealth Energy Absorption Flight  \\\n",
      "count              608        608     608               608    608   \n",
      "unique               2          2       2                 2      2   \n",
      "top              False      False   False             False  False   \n",
      "freq               562        360     492               532    400   \n",
      "\n",
      "       Danger Sense  ... Web Creation Reality Warping Odin Force  \\\n",
      "count           608  ...          608             608        608   \n",
      "unique            2  ...            2               2          2   \n",
      "top           False  ...        False           False      False   \n",
      "freq            578  ...          594             592        606   \n",
      "\n",
      "       Symbiote Costume Speed Force Phoenix Force Molecular Dissipation  \\\n",
      "count               608         608           608                   608   \n",
      "unique                2           2             2                     2   \n",
      "top               False       False         False                 False   \n",
      "freq                599         607           607                   607   \n",
      "\n",
      "       Vision - Cryo Omnipresent Omniscient  \n",
      "count            608         608        608  \n",
      "unique             2           2          2  \n",
      "top            False       False      False  \n",
      "freq             606         606        606  \n",
      "\n",
      "[4 rows x 167 columns]\n",
      "\n"
     ]
    },
    {
     "data": {
      "text/plain": [
       "[None, None]"
      ]
     },
     "execution_count": 296,
     "metadata": {},
     "output_type": "execute_result"
    }
   ],
   "source": [
    "[print(f\"{item.describe()}\\n\") for item in sets]\n"
   ]
  },
  {
   "cell_type": "markdown",
   "metadata": {},
   "source": [
    "## Dealing with missing values\n",
    "\n",
    "Starting in the cell below, detect and deal with any missing values in either DataFrame. Then, explain your methodology for detecting and dealing with outliers in the markdown section below. Be sure to explain your strategy for dealing with missing values in numeric columns, as well as your strategy for dealing with missing values in non-numeric columns.  \n",
    "\n",
    "Note that if you need to add more cells to write code in, you can do this by:\n",
    "\n",
    "**1.** Highlighting a cell and then pressing `ESC` to enter command mode.  \n",
    "**2.** Press `A` to add a cell above the highlighted cell, or `B` to add a cell below the highlighted cell. \n",
    "\n",
    "Describe your strategy below this line:\n",
    "____________________________________________________________________________________________________________________________\n",
    "\n",
    "\n"
   ]
  },
  {
   "cell_type": "markdown",
   "metadata": {},
   "source": [
    "Checking for missing (NaN) values. The `Heroes` dataset has NaNs in the `Publisher` and `Weight` columns. The `Powers` dataset has no NaNs, all Boolean data types apart from name."
   ]
  },
  {
   "cell_type": "code",
   "execution_count": 122,
   "metadata": {},
   "outputs": [
    {
     "name": "stdout",
     "output_type": "stream",
     "text": [
      "Index(['Publisher', 'Weight'], dtype='object')\n",
      "\n",
      "Index([], dtype='object')\n",
      "\n"
     ]
    },
    {
     "data": {
      "text/plain": [
       "[None, None]"
      ]
     },
     "execution_count": 122,
     "metadata": {},
     "output_type": "execute_result"
    }
   ],
   "source": [
    "[print(f\"{item.columns[item.isnull().any()]}\\n\") for item in sets]\n",
    "\n",
    "#print(heroes_df.columns[heroes_df.isnull().any()])\n",
    "#print(powers_df.columns[powers_df.isnull().any()])"
   ]
  },
  {
   "cell_type": "markdown",
   "metadata": {},
   "source": [
    "Investigating how many mising values we have for `Heroes`."
   ]
  },
  {
   "cell_type": "code",
   "execution_count": 123,
   "metadata": {},
   "outputs": [
    {
     "data": {
      "text/plain": [
       "name           0\n",
       "Gender         0\n",
       "Eye color      0\n",
       "Race           0\n",
       "Hair color     0\n",
       "Height         0\n",
       "Publisher     15\n",
       "Skin color     0\n",
       "Alignment      0\n",
       "Weight         2\n",
       "dtype: int64"
      ]
     },
     "execution_count": 123,
     "metadata": {},
     "output_type": "execute_result"
    }
   ],
   "source": [
    "heroes_df.isnull().sum()"
   ]
  },
  {
   "cell_type": "markdown",
   "metadata": {},
   "source": [
    "Only 15 for the `Publisher` column (out of 734). Will update these with their own category of \"Unknown\"."
   ]
  },
  {
   "cell_type": "code",
   "execution_count": 124,
   "metadata": {},
   "outputs": [
    {
     "name": "stdout",
     "output_type": "stream",
     "text": [
      "Marvel Comics        388\n",
      "DC Comics            215\n",
      "NBC - Heroes          19\n",
      "Dark Horse Comics     18\n",
      "Unknown               15\n",
      "Image Comics          14\n",
      "George Lucas          14\n",
      "HarperCollins          6\n",
      "Star Trek              6\n",
      "Team Epic TV           5\n",
      "SyFy                   5\n",
      "IDW Publishing         4\n",
      "ABC Studios            4\n",
      "Shueisha               4\n",
      "Icon Comics            4\n",
      "Wildstorm              3\n",
      "Sony Pictures          2\n",
      "J. R. R. Tolkien       1\n",
      "Hanna-Barbera          1\n",
      "South Park             1\n",
      "Universal Studios      1\n",
      "Rebellion              1\n",
      "Microsoft              1\n",
      "Titan Books            1\n",
      "J. K. Rowling          1\n",
      "Name: Publisher, dtype: int64\n"
     ]
    }
   ],
   "source": [
    "heroes_df['Publisher'].fillna('Unknown', inplace=True)\n",
    "\n",
    "print(heroes_df['Publisher'].value_counts())"
   ]
  },
  {
   "cell_type": "markdown",
   "metadata": {},
   "source": [
    "Only 2 NaN for Weight, but there are a lot of values of -99, which looks like a placeholder since Weight isn't a property that can have a negative value. 239 values are placeholder or blank, which is a significant amount."
   ]
  },
  {
   "cell_type": "code",
   "execution_count": 125,
   "metadata": {},
   "outputs": [
    {
     "data": {
      "text/plain": [
       "[-99.0,\n",
       " 2.0,\n",
       " 4.0,\n",
       " 14.0,\n",
       " 16.0,\n",
       " 17.0,\n",
       " 18.0,\n",
       " 25.0,\n",
       " 27.0,\n",
       " 36.0,\n",
       " 38.0,\n",
       " 39.0,\n",
       " 41.0,\n",
       " 45.0,\n",
       " 47.0,\n",
       " 48.0,\n",
       " 49.0,\n",
       " 50.0,\n",
       " 51.0,\n",
       " 52.0,\n",
       " 54.0,\n",
       " 55.0,\n",
       " 56.0,\n",
       " 57.0,\n",
       " 58.0,\n",
       " 59.0,\n",
       " 61.0,\n",
       " 62.0,\n",
       " 63.0,\n",
       " 65.0,\n",
       " 67.0,\n",
       " 68.0,\n",
       " 69.0,\n",
       " 70.0,\n",
       " 71.0,\n",
       " 72.0,\n",
       " 73.0,\n",
       " 74.0,\n",
       " 76.0,\n",
       " 77.0,\n",
       " 78.0,\n",
       " 79.0,\n",
       " 80.0,\n",
       " 81.0,\n",
       " 82.0,\n",
       " 83.0,\n",
       " 85.0,\n",
       " 86.0,\n",
       " 87.0,\n",
       " 88.0,\n",
       " 89.0,\n",
       " 90.0,\n",
       " 91.0,\n",
       " 92.0,\n",
       " 95.0,\n",
       " 96.0,\n",
       " 97.0,\n",
       " 98.0,\n",
       " 99.0,\n",
       " 101.0,\n",
       " 104.0,\n",
       " 105.0,\n",
       " 106.0,\n",
       " 108.0,\n",
       " 110.0,\n",
       " 113.0,\n",
       " 115.0,\n",
       " 116.0,\n",
       " 117.0,\n",
       " 119.0,\n",
       " 122.0,\n",
       " 124.0,\n",
       " 125.0,\n",
       " 126.0,\n",
       " 128.0,\n",
       " 131.0,\n",
       " 132.0,\n",
       " 133.0,\n",
       " 135.0,\n",
       " 140.0,\n",
       " 143.0,\n",
       " 146.0,\n",
       " 149.0,\n",
       " 153.0,\n",
       " 155.0,\n",
       " 158.0,\n",
       " 162.0,\n",
       " 167.0,\n",
       " 169.0,\n",
       " 170.0,\n",
       " 171.0,\n",
       " 173.0,\n",
       " 176.0,\n",
       " 178.0,\n",
       " 180.0,\n",
       " 181.0,\n",
       " 187.0,\n",
       " 191.0,\n",
       " 198.0,\n",
       " 203.0,\n",
       " 207.0,\n",
       " 214.0,\n",
       " 216.0,\n",
       " 225.0,\n",
       " 230.0,\n",
       " 234.0,\n",
       " 236.0,\n",
       " 248.0,\n",
       " 268.0,\n",
       " 270.0,\n",
       " 288.0,\n",
       " 293.0,\n",
       " 306.0,\n",
       " 310.0,\n",
       " 315.0,\n",
       " 320.0,\n",
       " 331.0,\n",
       " 334.0,\n",
       " 338.0,\n",
       " 360.0,\n",
       " 405.0,\n",
       " 412.0,\n",
       " 437.0,\n",
       " 443.0,\n",
       " 473.0,\n",
       " 630.0,\n",
       " nan,\n",
       " 324.0,\n",
       " 356.0,\n",
       " 358.0,\n",
       " 383.0,\n",
       " 441.0,\n",
       " 495.0,\n",
       " 817.0,\n",
       " 855.0,\n",
       " 900.0]"
      ]
     },
     "execution_count": 125,
     "metadata": {},
     "output_type": "execute_result"
    }
   ],
   "source": [
    "weights = list(heroes_df['Weight'].unique())\n",
    "weights.sort()\n",
    "weights"
   ]
  },
  {
   "cell_type": "markdown",
   "metadata": {},
   "source": [
    "For the `Weight` and `Height` columns, will first NaN the -99 values and get the median. Will impute the median, since it's too many rows of data to drop."
   ]
  },
  {
   "cell_type": "code",
   "execution_count": 167,
   "metadata": {},
   "outputs": [],
   "source": [
    "heroes_df.loc[heroes_df['Weight'] < 0, 'Weight'] = np.nan\n",
    "heroes_df.loc[heroes_df['Height'] < 0, 'Height'] = np.nan"
   ]
  },
  {
   "cell_type": "code",
   "execution_count": 168,
   "metadata": {},
   "outputs": [
    {
     "data": {
      "text/plain": [
       "<AxesSubplot:>"
      ]
     },
     "execution_count": 168,
     "metadata": {},
     "output_type": "execute_result"
    },
    {
     "data": {
      "image/png": "[encoded data removed]",
      "text/plain": [
       "<Figure size 432x288 with 1 Axes>"
      ]
     },
     "metadata": {
      "needs_background": "light"
     },
     "output_type": "display_data"
    }
   ],
   "source": [
    "heroes_df['Weight'].value_counts()\n",
    "heroes_df['Weight'].median()\n",
    "heroes_df['Weight'].hist()\n",
    "\n",
    "heroes_df['Height'].value_counts()\n",
    "heroes_df['Height'].median()\n",
    "heroes_df['Height'].hist()"
   ]
  },
  {
   "cell_type": "code",
   "execution_count": 153,
   "metadata": {},
   "outputs": [
    {
     "data": {
      "text/plain": [
       "<AxesSubplot:>"
      ]
     },
     "execution_count": 153,
     "metadata": {},
     "output_type": "execute_result"
    },
    {
     "data": {
      "image/png": "[encoded data removed]",
      "text/plain": [
       "<Figure size 432x288 with 1 Axes>"
      ]
     },
     "metadata": {
      "needs_background": "light"
     },
     "output_type": "display_data"
    }
   ],
   "source": [
    "heroes_temp = heroes_df['Weight'].fillna(heroes_df['Weight'].median())\n",
    "\n",
    "heroes_temp.hist()"
   ]
  },
  {
   "cell_type": "code",
   "execution_count": 157,
   "metadata": {},
   "outputs": [],
   "source": [
    "heroes_df['Weight'].fillna(heroes_df['Weight'].median(), inplace=True)"
   ]
  },
  {
   "cell_type": "code",
   "execution_count": 169,
   "metadata": {},
   "outputs": [],
   "source": [
    "heroes_df['Height'].fillna(heroes_df['Height'].median(), inplace=True)"
   ]
  },
  {
   "cell_type": "markdown",
   "metadata": {},
   "source": [
    "## Joining, Grouping, and Aggregating\n",
    "\n",
    "In the cell below, join the two DataFrames.  Think about which sort of join you should use, as well as which columns you should join on.  Rename columns and manipulate as needed.  \n",
    "\n",
    "**_HINT:_** Consider the possibility that the columns you choose to join on contain duplicate entries. If that is the case, devise a strategy to deal with the duplicates.\n",
    "\n",
    "**_HINT:_** If the join throws an error message, consider setting the column you want to join on as the index for each DataFrame.  "
   ]
  },
  {
   "cell_type": "code",
   "execution_count": 130,
   "metadata": {},
   "outputs": [
    {
     "data": {
      "text/html": [
       "<div>\n",
       "<style scoped>\n",
       "    .dataframe tbody tr th:only-of-type {\n",
       "        vertical-align: middle;\n",
       "    }\n",
       "\n",
       "    .dataframe tbody tr th {\n",
       "        vertical-align: top;\n",
       "    }\n",
       "\n",
       "    .dataframe thead th {\n",
       "        text-align: right;\n",
       "    }\n",
       "</style>\n",
       "<table border=\"1\" class=\"dataframe\">\n",
       "  <thead>\n",
       "    <tr style=\"text-align: right;\">\n",
       "      <th></th>\n",
       "      <th>Gender</th>\n",
       "      <th>Eye color</th>\n",
       "      <th>Race</th>\n",
       "      <th>Hair color</th>\n",
       "      <th>Height</th>\n",
       "      <th>Publisher</th>\n",
       "      <th>Skin color</th>\n",
       "      <th>Alignment</th>\n",
       "      <th>Weight</th>\n",
       "    </tr>\n",
       "    <tr>\n",
       "      <th>name</th>\n",
       "      <th></th>\n",
       "      <th></th>\n",
       "      <th></th>\n",
       "      <th></th>\n",
       "      <th></th>\n",
       "      <th></th>\n",
       "      <th></th>\n",
       "      <th></th>\n",
       "      <th></th>\n",
       "    </tr>\n",
       "  </thead>\n",
       "  <tbody>\n",
       "    <tr>\n",
       "      <th>A-Bomb</th>\n",
       "      <td>Male</td>\n",
       "      <td>yellow</td>\n",
       "      <td>Human</td>\n",
       "      <td>No Hair</td>\n",
       "      <td>203.0</td>\n",
       "      <td>Marvel Comics</td>\n",
       "      <td>-</td>\n",
       "      <td>good</td>\n",
       "      <td>441.0</td>\n",
       "    </tr>\n",
       "    <tr>\n",
       "      <th>Abe Sapien</th>\n",
       "      <td>Male</td>\n",
       "      <td>blue</td>\n",
       "      <td>Icthyo Sapien</td>\n",
       "      <td>No Hair</td>\n",
       "      <td>191.0</td>\n",
       "      <td>Dark Horse Comics</td>\n",
       "      <td>blue</td>\n",
       "      <td>good</td>\n",
       "      <td>65.0</td>\n",
       "    </tr>\n",
       "    <tr>\n",
       "      <th>Abin Sur</th>\n",
       "      <td>Male</td>\n",
       "      <td>blue</td>\n",
       "      <td>Ungaran</td>\n",
       "      <td>No Hair</td>\n",
       "      <td>185.0</td>\n",
       "      <td>DC Comics</td>\n",
       "      <td>red</td>\n",
       "      <td>good</td>\n",
       "      <td>90.0</td>\n",
       "    </tr>\n",
       "    <tr>\n",
       "      <th>Abomination</th>\n",
       "      <td>Male</td>\n",
       "      <td>green</td>\n",
       "      <td>Human / Radiation</td>\n",
       "      <td>No Hair</td>\n",
       "      <td>203.0</td>\n",
       "      <td>Marvel Comics</td>\n",
       "      <td>-</td>\n",
       "      <td>bad</td>\n",
       "      <td>441.0</td>\n",
       "    </tr>\n",
       "    <tr>\n",
       "      <th>Abraxas</th>\n",
       "      <td>Male</td>\n",
       "      <td>blue</td>\n",
       "      <td>Cosmic Entity</td>\n",
       "      <td>Black</td>\n",
       "      <td>-99.0</td>\n",
       "      <td>Marvel Comics</td>\n",
       "      <td>-</td>\n",
       "      <td>bad</td>\n",
       "      <td>81.0</td>\n",
       "    </tr>\n",
       "  </tbody>\n",
       "</table>\n",
       "</div>"
      ],
      "text/plain": [
       "            Gender Eye color               Race Hair color  Height  \\\n",
       "name                                                                 \n",
       "A-Bomb        Male    yellow              Human    No Hair   203.0   \n",
       "Abe Sapien    Male      blue      Icthyo Sapien    No Hair   191.0   \n",
       "Abin Sur      Male      blue            Ungaran    No Hair   185.0   \n",
       "Abomination   Male     green  Human / Radiation    No Hair   203.0   \n",
       "Abraxas       Male      blue      Cosmic Entity      Black   -99.0   \n",
       "\n",
       "                     Publisher Skin color Alignment  Weight  \n",
       "name                                                         \n",
       "A-Bomb           Marvel Comics          -      good   441.0  \n",
       "Abe Sapien   Dark Horse Comics       blue      good    65.0  \n",
       "Abin Sur             DC Comics        red      good    90.0  \n",
       "Abomination      Marvel Comics          -       bad   441.0  \n",
       "Abraxas          Marvel Comics          -       bad    81.0  "
      ]
     },
     "execution_count": 130,
     "metadata": {},
     "output_type": "execute_result"
    }
   ],
   "source": [
    "# Set index = name for heroes\n",
    "heroes_df.set_index('name', inplace=True)\n",
    "heroes_df.head()"
   ]
  },
  {
   "cell_type": "code",
   "execution_count": 138,
   "metadata": {},
   "outputs": [],
   "source": [
    "# Drop duplicates from both sets\n",
    "heroes_df.drop_duplicates(inplace=True)\n",
    "powers_df.drop_duplicates(inplace=True)"
   ]
  },
  {
   "cell_type": "code",
   "execution_count": 140,
   "metadata": {},
   "outputs": [
    {
     "data": {
      "text/plain": [
       "False"
      ]
     },
     "execution_count": 140,
     "metadata": {},
     "output_type": "execute_result"
    }
   ],
   "source": [
    "heroes_df.duplicated().any()\n",
    "powers_df.duplicated().any()"
   ]
  },
  {
   "cell_type": "code",
   "execution_count": 142,
   "metadata": {},
   "outputs": [
    {
     "name": "stdout",
     "output_type": "stream",
     "text": [
      "<class 'pandas.core.frame.DataFrame'>\n",
      "Index: 642 entries, A-Bomb to Zoom\n",
      "Data columns (total 176 columns):\n",
      " #   Column                        Dtype  \n",
      "---  ------                        -----  \n",
      " 0   Gender                        object \n",
      " 1   Eye color                     object \n",
      " 2   Race                          object \n",
      " 3   Hair color                    object \n",
      " 4   Height                        float64\n",
      " 5   Publisher                     object \n",
      " 6   Skin color                    object \n",
      " 7   Alignment                     object \n",
      " 8   Weight                        float64\n",
      " 9   Agility                       object \n",
      " 10  Accelerated Healing           object \n",
      " 11  Lantern Power Ring            object \n",
      " 12  Dimensional Awareness         object \n",
      " 13  Cold Resistance               object \n",
      " 14  Durability                    object \n",
      " 15  Stealth                       object \n",
      " 16  Energy Absorption             object \n",
      " 17  Flight                        object \n",
      " 18  Danger Sense                  object \n",
      " 19  Underwater breathing          object \n",
      " 20  Marksmanship                  object \n",
      " 21  Weapons Master                object \n",
      " 22  Power Augmentation            object \n",
      " 23  Animal Attributes             object \n",
      " 24  Longevity                     object \n",
      " 25  Intelligence                  object \n",
      " 26  Super Strength                object \n",
      " 27  Cryokinesis                   object \n",
      " 28  Telepathy                     object \n",
      " 29  Energy Armor                  object \n",
      " 30  Energy Blasts                 object \n",
      " 31  Duplication                   object \n",
      " 32  Size Changing                 object \n",
      " 33  Density Control               object \n",
      " 34  Stamina                       object \n",
      " 35  Astral Travel                 object \n",
      " 36  Audio Control                 object \n",
      " 37  Dexterity                     object \n",
      " 38  Omnitrix                      object \n",
      " 39  Super Speed                   object \n",
      " 40  Possession                    object \n",
      " 41  Animal Oriented Powers        object \n",
      " 42  Weapon-based Powers           object \n",
      " 43  Electrokinesis                object \n",
      " 44  Darkforce Manipulation        object \n",
      " 45  Death Touch                   object \n",
      " 46  Teleportation                 object \n",
      " 47  Enhanced Senses               object \n",
      " 48  Telekinesis                   object \n",
      " 49  Energy Beams                  object \n",
      " 50  Magic                         object \n",
      " 51  Hyperkinesis                  object \n",
      " 52  Jump                          object \n",
      " 53  Clairvoyance                  object \n",
      " 54  Dimensional Travel            object \n",
      " 55  Power Sense                   object \n",
      " 56  Shapeshifting                 object \n",
      " 57  Peak Human Condition          object \n",
      " 58  Immortality                   object \n",
      " 59  Camouflage                    object \n",
      " 60  Element Control               object \n",
      " 61  Phasing                       object \n",
      " 62  Astral Projection             object \n",
      " 63  Electrical Transport          object \n",
      " 64  Fire Control                  object \n",
      " 65  Projection                    object \n",
      " 66  Summoning                     object \n",
      " 67  Enhanced Memory               object \n",
      " 68  Reflexes                      object \n",
      " 69  Invulnerability               object \n",
      " 70  Energy Constructs             object \n",
      " 71  Force Fields                  object \n",
      " 72  Self-Sustenance               object \n",
      " 73  Anti-Gravity                  object \n",
      " 74  Empathy                       object \n",
      " 75  Power Nullifier               object \n",
      " 76  Radiation Control             object \n",
      " 77  Psionic Powers                object \n",
      " 78  Elasticity                    object \n",
      " 79  Substance Secretion           object \n",
      " 80  Elemental Transmogrification  object \n",
      " 81  Technopath/Cyberpath          object \n",
      " 82  Photographic Reflexes         object \n",
      " 83  Seismic Power                 object \n",
      " 84  Animation                     object \n",
      " 85  Precognition                  object \n",
      " 86  Mind Control                  object \n",
      " 87  Fire Resistance               object \n",
      " 88  Power Absorption              object \n",
      " 89  Enhanced Hearing              object \n",
      " 90  Nova Force                    object \n",
      " 91  Insanity                      object \n",
      " 92  Hypnokinesis                  object \n",
      " 93  Animal Control                object \n",
      " 94  Natural Armor                 object \n",
      " 95  Intangibility                 object \n",
      " 96  Enhanced Sight                object \n",
      " 97  Molecular Manipulation        object \n",
      " 98  Heat Generation               object \n",
      " 99  Adaptation                    object \n",
      " 100 Gliding                       object \n",
      " 101 Power Suit                    object \n",
      " 102 Mind Blast                    object \n",
      " 103 Probability Manipulation      object \n",
      " 104 Gravity Control               object \n",
      " 105 Regeneration                  object \n",
      " 106 Light Control                 object \n",
      " 107 Echolocation                  object \n",
      " 108 Levitation                    object \n",
      " 109 Toxin and Disease Control     object \n",
      " 110 Banish                        object \n",
      " 111 Energy Manipulation           object \n",
      " 112 Heat Resistance               object \n",
      " 113 Natural Weapons               object \n",
      " 114 Time Travel                   object \n",
      " 115 Enhanced Smell                object \n",
      " 116 Illusions                     object \n",
      " 117 Thirstokinesis                object \n",
      " 118 Hair Manipulation             object \n",
      " 119 Illumination                  object \n",
      " 120 Omnipotent                    object \n",
      " 121 Cloaking                      object \n",
      " 122 Changing Armor                object \n",
      " 123 Power Cosmic                  object \n",
      " 124 Biokinesis                    object \n",
      " 125 Water Control                 object \n",
      " 126 Radiation Immunity            object \n",
      " 127 Vision - Telescopic           object \n",
      " 128 Toxin and Disease Resistance  object \n",
      " 129 Spatial Awareness             object \n",
      " 130 Energy Resistance             object \n",
      " 131 Telepathy Resistance          object \n",
      " 132 Molecular Combustion          object \n",
      " 133 Omnilingualism                object \n",
      " 134 Portal Creation               object \n",
      " 135 Magnetism                     object \n",
      " 136 Mind Control Resistance       object \n",
      " 137 Plant Control                 object \n",
      " 138 Sonar                         object \n",
      " 139 Sonic Scream                  object \n",
      " 140 Time Manipulation             object \n",
      " 141 Enhanced Touch                object \n",
      " 142 Magic Resistance              object \n",
      " 143 Invisibility                  object \n",
      " 144 Sub-Mariner                   object \n",
      " 145 Radiation Absorption          object \n",
      " 146 Intuitive aptitude            object \n",
      " 147 Vision - Microscopic          object \n",
      " 148 Melting                       object \n",
      " 149 Wind Control                  object \n",
      " 150 Super Breath                  object \n",
      " 151 Wallcrawling                  object \n",
      " 152 Vision - Night                object \n",
      " 153 Vision - Infrared             object \n",
      " 154 Grim Reaping                  object \n",
      " 155 Matter Absorption             object \n",
      " 156 The Force                     object \n",
      " 157 Resurrection                  object \n",
      " 158 Terrakinesis                  object \n",
      " 159 Vision - Heat                 object \n",
      " 160 Vitakinesis                   object \n",
      " 161 Radar Sense                   object \n",
      " 162 Qwardian Power Ring           object \n",
      " 163 Weather Control               object \n",
      " 164 Vision - X-Ray                object \n",
      " 165 Vision - Thermal              object \n",
      " 166 Web Creation                  object \n",
      " 167 Reality Warping               object \n",
      " 168 Odin Force                    object \n",
      " 169 Symbiote Costume              object \n",
      " 170 Speed Force                   object \n",
      " 171 Phoenix Force                 object \n",
      " 172 Molecular Dissipation         object \n",
      " 173 Vision - Cryo                 object \n",
      " 174 Omnipresent                   object \n",
      " 175 Omniscient                    object \n",
      "dtypes: float64(2), object(174)\n",
      "memory usage: 887.8+ KB\n"
     ]
    }
   ],
   "source": [
    "# Perform a left join to match up the hero info with their powers in one set\n",
    "heroes_powers_df = heroes_df.join(powers_df, how='left')\n",
    "\n",
    "heroes_powers_df.info(verbose=True)"
   ]
  },
  {
   "cell_type": "markdown",
   "metadata": {},
   "source": [
    "In the cell below, subset male and female heroes into different dataframes.  Create a scatterplot of the height and weight of each hero, with weight as the y-axis.  Plot both the male and female heroes subset into each dataframe, and make the color for each point in the scatterplot correspond to the gender of the superhero."
   ]
  },
  {
   "cell_type": "code",
   "execution_count": 171,
   "metadata": {},
   "outputs": [
    {
     "data": {
      "text/plain": [
       "183.0    194\n",
       "188.0     51\n",
       "178.0     36\n",
       "180.0     36\n",
       "185.0     35\n",
       "175.0     34\n",
       "168.0     28\n",
       "170.0     26\n",
       "165.0     25\n",
       "193.0     21\n",
       "191.0     20\n",
       "198.0     18\n",
       "173.0     16\n",
       "196.0     11\n",
       "201.0     11\n",
       "163.0      7\n",
       "213.0      7\n",
       "203.0      5\n",
       "211.0      5\n",
       "157.0      5\n",
       "244.0      4\n",
       "229.0      3\n",
       "155.0      3\n",
       "218.0      3\n",
       "226.0      3\n",
       "122.0      2\n",
       "30.5       2\n",
       "206.0      2\n",
       "305.0      2\n",
       "137.0      2\n",
       "279.0      2\n",
       "366.0      2\n",
       "234.0      1\n",
       "297.0      1\n",
       "267.0      1\n",
       "304.8      1\n",
       "701.0      1\n",
       "61.0       1\n",
       "876.0      1\n",
       "259.0      1\n",
       "15.2       1\n",
       "287.0      1\n",
       "71.0       1\n",
       "257.0      1\n",
       "66.0       1\n",
       "160.0      1\n",
       "140.0      1\n",
       "64.0       1\n",
       "142.0      1\n",
       "62.5       1\n",
       "108.0      1\n",
       "79.0       1\n",
       "975.0      1\n",
       "Name: Height, dtype: int64"
      ]
     },
     "execution_count": 171,
     "metadata": {},
     "output_type": "execute_result"
    }
   ],
   "source": [
    "heroes_df['Height'].value_counts()"
   ]
  },
  {
   "cell_type": "code",
   "execution_count": 180,
   "metadata": {},
   "outputs": [
    {
     "data": {
      "text/plain": [
       "Text(0, 0.5, 'Weight')"
      ]
     },
     "execution_count": 180,
     "metadata": {},
     "output_type": "execute_result"
    },
    {
     "data": {
      "image/png": "[encoded data removed]",
      "text/plain": [
       "<Figure size 792x216 with 2 Axes>"
      ]
     },
     "metadata": {
      "needs_background": "light"
     },
     "output_type": "display_data"
    }
   ],
   "source": [
    "heroes_male_df = heroes_df[heroes_df['Gender']=='Male']\n",
    "heroes_female_df = heroes_df[heroes_df['Gender']=='Female']\n",
    "\n",
    "fig, ([ax1, ax2]) = plt.subplots(figsize=(11,3), ncols=2, nrows=1)\n",
    "ax1.scatter(heroes_male_df['Height'], heroes_male_df['Weight'])\n",
    "ax2.scatter(heroes_female_df['Height'], heroes_female_df['Weight'])\n",
    "\n",
    "ax1.set_title(\"Male Heroes - Height v Weight\")\n",
    "ax1.set_xlabel(\"Height\")\n",
    "ax1.set_ylabel(\"Weight\")\n",
    "\n",
    "ax2.set_title(\"Female Heroes - Height v Weight\")\n",
    "ax2.set_xlabel(\"Height\")\n",
    "ax2.set_ylabel(\"Weight\")"
   ]
  },
  {
   "cell_type": "code",
   "execution_count": 178,
   "metadata": {},
   "outputs": [
    {
     "data": {
      "text/plain": [
       "<AxesSubplot:xlabel='Height', ylabel='Weight'>"
      ]
     },
     "execution_count": 178,
     "metadata": {},
     "output_type": "execute_result"
    },
    {
     "data": {
      "image/png": "[encoded data removed]",
      "text/plain": [
       "<Figure size 432x288 with 1 Axes>"
      ]
     },
     "metadata": {
      "needs_background": "light"
     },
     "output_type": "display_data"
    }
   ],
   "source": [
    "sns.scatterplot(x=heroes_df['Height'], y=heroes_df['Weight'], hue=heroes_df['Gender'])"
   ]
  },
  {
   "cell_type": "markdown",
   "metadata": {},
   "source": [
    "## Some Initial Investigation\n",
    "\n",
    "Next, slice the DataFrame as needed and visualize the distribution of heights and weights by gender.  You should have 4 total plots.  \n",
    "\n",
    "In the cell below:\n",
    "\n",
    "* Slice the DataFrame into separate DataFrames by gender\n",
    "* Complete the `show_distplot()` function.  This helper function should take in a DataFrame, a string containing the gender we want to visualize, and the column name we want to visualize by gender. The function should display a distplot visualization from seaborn of the column/gender combination.  \n",
    "\n",
    "Hint: Don't forget to check the [seaborn documentation for distplot](https://seaborn.pydata.org/generated/seaborn.distplot.html) if you have questions about how to use it correctly! "
   ]
  },
  {
   "cell_type": "code",
   "execution_count": 194,
   "metadata": {},
   "outputs": [],
   "source": [
    "male_heroes_df = heroes_df[heroes_df['Gender']=='Male']\n",
    "female_heroes_df = heroes_df[heroes_df['Gender']=='Female']\n",
    "\n",
    "def show_displot(dataframe, gender, column_name):\n",
    "    g = sns.displot(data=dataframe[column_name])\n",
    "    pass"
   ]
  },
  {
   "cell_type": "code",
   "execution_count": 298,
   "metadata": {},
   "outputs": [
    {
     "data": {
      "image/png": "[encoded data removed]",
      "text/plain": [
       "<Figure size 360x360 with 1 Axes>"
      ]
     },
     "metadata": {
      "needs_background": "light"
     },
     "output_type": "display_data"
    }
   ],
   "source": [
    "# Male Height\n",
    "show_displot(male_heroes_df, 'Male', 'Height')\n",
    "\n",
    "#male_heroes_df['Height'].hist()"
   ]
  },
  {
   "cell_type": "code",
   "execution_count": 299,
   "metadata": {},
   "outputs": [],
   "source": [
    "#male_heroes_df['Height'].value_counts()"
   ]
  },
  {
   "cell_type": "code",
   "execution_count": 196,
   "metadata": {},
   "outputs": [
    {
     "data": {
      "image/png": "[encoded data removed]",
      "text/plain": [
       "<Figure size 360x360 with 1 Axes>"
      ]
     },
     "metadata": {
      "needs_background": "light"
     },
     "output_type": "display_data"
    }
   ],
   "source": [
    "# Male Weight\n",
    "show_displot(male_heroes_df, 'Male', 'Weight')"
   ]
  },
  {
   "cell_type": "code",
   "execution_count": 300,
   "metadata": {},
   "outputs": [],
   "source": [
    "#male_heroes_df['Weight'].value_counts()"
   ]
  },
  {
   "cell_type": "code",
   "execution_count": 188,
   "metadata": {},
   "outputs": [
    {
     "data": {
      "image/png": "[encoded data removed]",
      "text/plain": [
       "<Figure size 360x360 with 1 Axes>"
      ]
     },
     "metadata": {
      "needs_background": "light"
     },
     "output_type": "display_data"
    }
   ],
   "source": [
    "# Female Height\n",
    "show_displot(female_heroes_df, 'Female', 'Height')"
   ]
  },
  {
   "cell_type": "code",
   "execution_count": 187,
   "metadata": {},
   "outputs": [
    {
     "data": {
      "image/png": "[encoded data removed]",
      "text/plain": [
       "<Figure size 360x360 with 1 Axes>"
      ]
     },
     "metadata": {
      "needs_background": "light"
     },
     "output_type": "display_data"
    }
   ],
   "source": [
    "# Female Weight\n",
    "show_displot(female_heroes_df, 'Female', 'Weight')"
   ]
  },
  {
   "cell_type": "markdown",
   "metadata": {},
   "source": [
    "Discuss your findings from the plots above, with respect to the distribution of height and weight by gender.  Your explanation should include a discussion of any relevant summary statistics, including mean, median, mode, and the overall shape of each distribution.  \n",
    "\n",
    "Write your answer below this line:\n",
    "____________________________________________________________________________________________________________________________\n",
    "\n"
   ]
  },
  {
   "cell_type": "markdown",
   "metadata": {},
   "source": [
    "### Sample Question: Most Common Powers\n",
    "\n",
    "The rest of this notebook will be left to you to investigate the dataset by formulating your own questions, and then seeking answers using pandas and numpy.  Every answer should include some sort of visualization, when appropriate. Before moving on to formulating your own questions, use the dataset to answer the following questions about superhero powers:\n",
    "\n",
    "* What are the 5 most common powers overall?\n",
    "* What are the 5 most common powers in the Marvel Universe?\n",
    "* What are the 5 most common powers in the DC Universe?"
   ]
  },
  {
   "cell_type": "code",
   "execution_count": 225,
   "metadata": {},
   "outputs": [],
   "source": [
    "heroes_powers_df = heroes_df.join(powers_df, how='inner')\n",
    "\n",
    "def top_trues_by_column(dataframe, column_list, top_num):\n",
    "    \n",
    "    power_counts = {}\n",
    "    \n",
    "    for col in list(column_list):\n",
    "        power_counts[col] = len(dataframe[dataframe[col]])\n",
    "\n",
    "    powers_sorted = sorted(power_counts.items(), key=lambda x: x[1], \n",
    "                           reverse=True)\n",
    "\n",
    "    [print(f\"{x[1]} heroes with {x[0]}\") for x in powers_sorted[:top_num]]"
   ]
  },
  {
   "cell_type": "code",
   "execution_count": 226,
   "metadata": {},
   "outputs": [
    {
     "name": "stdout",
     "output_type": "stream",
     "text": [
      "All publishers top 5 abilities:\n",
      "331 heroes with Super Strength\n",
      "270 heroes with Stamina\n",
      "244 heroes with Durability\n",
      "236 heroes with Super Speed\n",
      "222 heroes with Agility\n"
     ]
    }
   ],
   "source": [
    "print(\"All publishers top 5 abilities:\")\n",
    "\n",
    "top_trues_by_column(heroes_powers_df, list(powers_df.columns), 5)"
   ]
  },
  {
   "cell_type": "code",
   "execution_count": 227,
   "metadata": {},
   "outputs": [
    {
     "name": "stdout",
     "output_type": "stream",
     "text": [
      "Marvel Comics top 5 abilities:\n",
      "192 heroes with Super Strength\n",
      "145 heroes with Durability\n",
      "143 heroes with Stamina\n",
      "132 heroes with Super Speed\n",
      "117 heroes with Agility\n"
     ]
    }
   ],
   "source": [
    "print(\"Marvel Comics top 5 abilities:\")\n",
    "\n",
    "top_trues_by_column(\n",
    "    heroes_powers_df[heroes_powers_df['Publisher']==\"Marvel Comics\"],\n",
    "    list(powers_df.columns), 5)"
   ]
  },
  {
   "cell_type": "code",
   "execution_count": 228,
   "metadata": {},
   "outputs": [
    {
     "name": "stdout",
     "output_type": "stream",
     "text": [
      "DC Comics top 5 abilities:\n",
      "98 heroes with Super Strength\n",
      "80 heroes with Stamina\n",
      "78 heroes with Flight\n",
      "74 heroes with Super Speed\n",
      "66 heroes with Durability\n"
     ]
    }
   ],
   "source": [
    "print(\"DC Comics top 5 abilities:\")\n",
    "\n",
    "top_trues_by_column(\n",
    "    heroes_powers_df[heroes_powers_df['Publisher']==\"DC Comics\"],\n",
    "    list(powers_df.columns), 5)"
   ]
  },
  {
   "cell_type": "markdown",
   "metadata": {},
   "source": [
    "Analyze the results you found above to answer the following question:\n",
    "\n",
    "How do the top 5 powers in the Marvel and DC universes compare?  Are they similar, or are there significant differences? How do they compare to the overall trends in the entire Superheroes dataset?\n",
    "\n",
    "Write your answer below this line:\n",
    "____________________________________________________________________________________________________________________________\n",
    "\n",
    "The top 5 powers for Marvel and DC compared to each other and the whole data set, are quite similar. Super Strength is the most common ability in each case, and Stamina, Super Speed, and Durability are all in the top 5 in slightly different positions.\n",
    "\n",
    "### Your Own Investigation\n",
    "\n",
    "For the remainder of this lab, you'll be focusing on coming up with and answering your own question, just like we did above.  Your question should not be overly simple, and should require both descriptive statistics and data visualization to answer.  In case you're unsure of what questions to ask, some sample questions have been provided below.\n",
    "\n",
    "Pick one of the following questions to investigate and answer, or come up with one of your own!\n",
    "\n",
    "* Which powers have the highest chance of co-occurring in a hero (e.g. super strength and flight), and does this differ by gender?\n",
    "* Is there a relationship between a hero's height and weight and their powerset?\n",
    "* What is the distribution of skin colors amongst alien heroes?\n",
    "\n",
    "Explain your question below this line:\n",
    "____________________________________________________________________________________________________________________________\n",
    "\n",
    "\n",
    "\n",
    "Some sample cells have been provided to give you room to work. If you need to create more cells, you can do this easily by:\n",
    "\n",
    "1. Highlighting a cell and then pressing `esc` to enter command mode.\n",
    "1. Pressing `b` to add a cell below the currently highlighted cell, or `a` to add one above it.  \n",
    "\n",
    "Be sure to include thoughtful, well-labeled visualizations to back up your analysis!"
   ]
  },
  {
   "cell_type": "code",
   "execution_count": 295,
   "metadata": {},
   "outputs": [
    {
     "data": {
      "text/plain": [
       "<AxesSubplot:>"
      ]
     },
     "execution_count": 295,
     "metadata": {},
     "output_type": "execute_result"
    },
    {
     "data": {
      "image/png": "[encoded data removed]",
      "text/plain": [
       "<Figure size 432x288 with 1 Axes>"
      ]
     },
     "metadata": {
      "needs_background": "light"
     },
     "output_type": "display_data"
    }
   ],
   "source": [
    "corr_powers = powers_df.corr()\n",
    "\n",
    "# set values = NaN where they represent a column correlated against itself\n",
    "for col in corr_powers.columns:\n",
    "    corr_powers[col][col] = np.nan\n",
    "\n",
    "corr_powers_dict = {}\n",
    "\n",
    "# Iterate over the columns\n",
    "for col in corr_powers.columns:\n",
    "    # Iterate over the rows\n",
    "    for row in corr_powers[col].iteritems():\n",
    "        # Check for NaN\n",
    "        if ~np.isnan(row[1]):\n",
    "            corr_powers_dict[col + '__' + row[0]] = row[1]\n",
    "\n",
    "# Sort powers dictionary by values (r)\n",
    "corr_powers_dict_sorted = sorted(corr_powers_dict.items(), \n",
    "                                 key=lambda x: x[1], reverse=True)\n",
    "\n",
    "# Iterate through corr_powers and remove extra pairs\n",
    "final_corr_powers_dict = {}\n",
    "\n",
    "for pair in corr_powers_dict_sorted:\n",
    "    powers = [pair[0].split('__')[0], pair[0].split('__')[1]]\n",
    "    powers.sort()\n",
    "    final_corr_powers_dict['__'.join(powers)] = pair[1]\n",
    "    \n",
    "# Create dataframe from deduped powers dict\n",
    "df = pd.DataFrame.from_dict(final_corr_powers_dict, orient='index', \n",
    "                            columns=['Pearson Corr Coef'])\n",
    "\n",
    "df_sig = df[df['Pearson Corr Coef'] > 0.6]\n",
    "\n",
    "df_sig.plot.bar()"
   ]
  },
  {
   "cell_type": "code",
   "execution_count": null,
   "metadata": {},
   "outputs": [],
   "source": []
  },
  {
   "cell_type": "code",
   "execution_count": null,
   "metadata": {},
   "outputs": [],
   "source": []
  },
  {
   "cell_type": "code",
   "execution_count": null,
   "metadata": {},
   "outputs": [],
   "source": []
  },
  {
   "cell_type": "code",
   "execution_count": null,
   "metadata": {},
   "outputs": [],
   "source": []
  },
  {
   "cell_type": "code",
   "execution_count": null,
   "metadata": {},
   "outputs": [],
   "source": []
  },
  {
   "cell_type": "markdown",
   "metadata": {},
   "source": [
    "## Summary\n",
    "\n",
    "In this lab, we demonstrated our mastery of:\n",
    "* Using all of our Pandas knowledge to date to clean the dataset and deal with null values\n",
    "* Using Queries and aggregations to group the data into interesting subsets as needed\n",
    "* Using descriptive statistics and data visualization to find answers to questions we may have about the data"
   ]
  }
 ],
 "metadata": {
  "kernelspec": {
   "display_name": "Python 3",
   "language": "python",
   "name": "python3"
  },
  "language_info": {
   "codemirror_mode": {
    "name": "ipython",
    "version": 3
   },
   "file_extension": ".py",
   "mimetype": "text/x-python",
   "name": "python",
   "nbconvert_exporter": "python",
   "pygments_lexer": "ipython3",
   "version": "3.8.5"
  },
  "toc": {
   "base_numbering": 1,
   "nav_menu": {},
   "number_sections": true,
   "sideBar": true,
   "skip_h1_title": false,
   "title_cell": "Table of Contents",
   "title_sidebar": "Contents",
   "toc_cell": false,
   "toc_position": {},
   "toc_section_display": true,
   "toc_window_display": true
  },
  "varInspector": {
   "cols": {
    "lenName": 16,
    "lenType": 16,
    "lenVar": 40
   },
   "kernels_config": {
    "python": {
     "delete_cmd_postfix": "",
     "delete_cmd_prefix": "del ",
     "library": "var_list.py",
     "varRefreshCmd": "print(var_dic_list())"
    },
    "r": {
     "delete_cmd_postfix": ") ",
     "delete_cmd_prefix": "rm(",
     "library": "var_list.r",
     "varRefreshCmd": "cat(var_dic_list()) "
    }
   },
   "types_to_exclude": [
    "module",
    "function",
    "builtin_function_or_method",
    "instance",
    "_Feature"
   ],
   "window_display": false
  }
 },
 "nbformat": 4,
 "nbformat_minor": 2
}
